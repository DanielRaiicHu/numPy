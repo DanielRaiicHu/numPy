{
  "nbformat": 4,
  "nbformat_minor": 0,
  "metadata": {
    "colab": {
      "provenance": [],
      "mount_file_id": "https://github.com/DanielRaiicHu/numPy/blob/main/numPy.ipynb",
      "authorship_tag": "ABX9TyP91DZ600xNUm9VSk4FImvj"
    },
    "kernelspec": {
      "name": "python3",
      "display_name": "Python 3"
    },
    "language_info": {
      "name": "python"
    }
  },
  "cells": [
    {
      "cell_type": "markdown",
      "source": [
        "<a href=\"https://colab.research.google.com/github/DanielRaiicHu/numPy/blob/main/numPy.ipynb?forceRefresh=true\">\n",
        "  <img src=\"https://drive.google.com/uc?id=191Woxwut0iaIL2hCcCIeXRSB6oba_88H\" alt=\"Abrir en Colab\" width=\"120\"/>\n",
        "</a>\n",
        "\n",
        "\n",
        "Numpy: Análisis numérico eficiente con Python\n",
        "NumPy es una biblioteca de Python que ofrece diversas herramientas y funcionalidades esenciales para la computación científica, incluyendo objetos de matriz multidimensional conocidos como arrays, rutinas para operaciones rápidas en matrizes, además de operaciones matemáticas, manipulación de formas, estadística entre otros. Es ampliamente utilizada en áreas como análisis de datos, procesamiento de señales y aprendizaje de máquina.\n",
        "\n",
        "Para acceder a la documentación de esta biblioteca, puedes hacer clic en el siguiente enlace: https://numpy.org/devdocs/index.html\n",
        "\n",
        "\n",
        "\n"
      ],
      "metadata": {
        "id": "tH3CA-HJLgwq"
      }
    },
    {
      "cell_type": "code",
      "execution_count": 4,
      "metadata": {
        "id": "XLY4QThLLdWF",
        "colab": {
          "base_uri": "https://localhost:8080/"
        },
        "outputId": "aaf092a6-e16f-464f-9900-60f5351aeae3"
      },
      "outputs": [
        {
          "output_type": "execute_result",
          "data": {
            "text/plain": [
              "array([2002, 2006, 2010, 2014, 2018, 2022, 2026, 2030, 2034, 2038, 2042,\n",
              "       2046, 2050, 2054, 2058, 2062, 2066, 2070, 2074, 2078, 2082, 2086,\n",
              "       2090, 2094, 2098, 2102])"
            ]
          },
          "metadata": {},
          "execution_count": 4
        }
      ],
      "source": [
        "import numpy as np\n",
        "\n",
        "ano_inicial = 2002\n",
        "ano_final = 2102\n",
        "\n",
        "#arange(inicio, fin, paso) se utiliza para crear un array de valores en un rango específico\n",
        "np.arange(ano_inicial, ano_final + 1, 4)"
      ]
    },
    {
      "cell_type": "code",
      "source": [
        "import numpy as np"
      ],
      "metadata": {
        "id": "pyyPHwveL3uB"
      },
      "execution_count": 21,
      "outputs": []
    },
    {
      "cell_type": "code",
      "source": [
        "#no funciona porque el primer dato es nulo, por eso mas abajo ocuparemos arange() para que comience en 1 hacia adelante\n",
        "url = \"https://gist.githubusercontent.com/ahcamachod/41b8a65c5e5b58125401deafb68af460/raw/f84320f69efa1cc3e86e1db054422cfa4869c63e/manzanas.csv\"\n",
        "\n",
        "np.loadtxt(url, delimiter=\",\")"
      ],
      "metadata": {
        "colab": {
          "base_uri": "https://localhost:8080/",
          "height": 376
        },
        "id": "Ob9CBWkHO8ZG",
        "outputId": "41b33b29-3345-4ca6-86ab-613641bde1e6"
      },
      "execution_count": 22,
      "outputs": [
        {
          "output_type": "error",
          "ename": "ValueError",
          "evalue": "could not convert string '' to float64 at row 0, column 1.",
          "traceback": [
            "\u001b[0;31m---------------------------------------------------------------------------\u001b[0m",
            "\u001b[0;31mValueError\u001b[0m                                Traceback (most recent call last)",
            "\u001b[0;32m<ipython-input-22-521d84b7d302>\u001b[0m in \u001b[0;36m<cell line: 0>\u001b[0;34m()\u001b[0m\n\u001b[1;32m      2\u001b[0m \u001b[0murl\u001b[0m \u001b[0;34m=\u001b[0m \u001b[0;34m\"https://gist.githubusercontent.com/ahcamachod/41b8a65c5e5b58125401deafb68af460/raw/f84320f69efa1cc3e86e1db054422cfa4869c63e/manzanas.csv\"\u001b[0m\u001b[0;34m\u001b[0m\u001b[0;34m\u001b[0m\u001b[0m\n\u001b[1;32m      3\u001b[0m \u001b[0;34m\u001b[0m\u001b[0m\n\u001b[0;32m----> 4\u001b[0;31m \u001b[0mnp\u001b[0m\u001b[0;34m.\u001b[0m\u001b[0mloadtxt\u001b[0m\u001b[0;34m(\u001b[0m\u001b[0murl\u001b[0m\u001b[0;34m,\u001b[0m \u001b[0mdelimiter\u001b[0m\u001b[0;34m=\u001b[0m\u001b[0;34m\",\"\u001b[0m\u001b[0;34m)\u001b[0m\u001b[0;34m\u001b[0m\u001b[0;34m\u001b[0m\u001b[0m\n\u001b[0m",
            "\u001b[0;32m/usr/local/lib/python3.11/dist-packages/numpy/lib/npyio.py\u001b[0m in \u001b[0;36mloadtxt\u001b[0;34m(fname, dtype, comments, delimiter, converters, skiprows, usecols, unpack, ndmin, encoding, max_rows, quotechar, like)\u001b[0m\n\u001b[1;32m   1371\u001b[0m         \u001b[0mdelimiter\u001b[0m \u001b[0;34m=\u001b[0m \u001b[0mdelimiter\u001b[0m\u001b[0;34m.\u001b[0m\u001b[0mdecode\u001b[0m\u001b[0;34m(\u001b[0m\u001b[0;34m'latin1'\u001b[0m\u001b[0;34m)\u001b[0m\u001b[0;34m\u001b[0m\u001b[0;34m\u001b[0m\u001b[0m\n\u001b[1;32m   1372\u001b[0m \u001b[0;34m\u001b[0m\u001b[0m\n\u001b[0;32m-> 1373\u001b[0;31m     arr = _read(fname, dtype=dtype, comment=comment, delimiter=delimiter,\n\u001b[0m\u001b[1;32m   1374\u001b[0m                 \u001b[0mconverters\u001b[0m\u001b[0;34m=\u001b[0m\u001b[0mconverters\u001b[0m\u001b[0;34m,\u001b[0m \u001b[0mskiplines\u001b[0m\u001b[0;34m=\u001b[0m\u001b[0mskiprows\u001b[0m\u001b[0;34m,\u001b[0m \u001b[0musecols\u001b[0m\u001b[0;34m=\u001b[0m\u001b[0musecols\u001b[0m\u001b[0;34m,\u001b[0m\u001b[0;34m\u001b[0m\u001b[0;34m\u001b[0m\u001b[0m\n\u001b[1;32m   1375\u001b[0m                 \u001b[0munpack\u001b[0m\u001b[0;34m=\u001b[0m\u001b[0munpack\u001b[0m\u001b[0;34m,\u001b[0m \u001b[0mndmin\u001b[0m\u001b[0;34m=\u001b[0m\u001b[0mndmin\u001b[0m\u001b[0;34m,\u001b[0m \u001b[0mencoding\u001b[0m\u001b[0;34m=\u001b[0m\u001b[0mencoding\u001b[0m\u001b[0;34m,\u001b[0m\u001b[0;34m\u001b[0m\u001b[0;34m\u001b[0m\u001b[0m\n",
            "\u001b[0;32m/usr/local/lib/python3.11/dist-packages/numpy/lib/npyio.py\u001b[0m in \u001b[0;36m_read\u001b[0;34m(fname, delimiter, comment, quote, imaginary_unit, usecols, skiplines, max_rows, converters, ndmin, unpack, dtype, encoding)\u001b[0m\n\u001b[1;32m   1014\u001b[0m \u001b[0;34m\u001b[0m\u001b[0m\n\u001b[1;32m   1015\u001b[0m         \u001b[0;32mif\u001b[0m \u001b[0mread_dtype_via_object_chunks\u001b[0m \u001b[0;32mis\u001b[0m \u001b[0;32mNone\u001b[0m\u001b[0;34m:\u001b[0m\u001b[0;34m\u001b[0m\u001b[0;34m\u001b[0m\u001b[0m\n\u001b[0;32m-> 1016\u001b[0;31m             arr = _load_from_filelike(\n\u001b[0m\u001b[1;32m   1017\u001b[0m                 \u001b[0mdata\u001b[0m\u001b[0;34m,\u001b[0m \u001b[0mdelimiter\u001b[0m\u001b[0;34m=\u001b[0m\u001b[0mdelimiter\u001b[0m\u001b[0;34m,\u001b[0m \u001b[0mcomment\u001b[0m\u001b[0;34m=\u001b[0m\u001b[0mcomment\u001b[0m\u001b[0;34m,\u001b[0m \u001b[0mquote\u001b[0m\u001b[0;34m=\u001b[0m\u001b[0mquote\u001b[0m\u001b[0;34m,\u001b[0m\u001b[0;34m\u001b[0m\u001b[0;34m\u001b[0m\u001b[0m\n\u001b[1;32m   1018\u001b[0m                 \u001b[0mimaginary_unit\u001b[0m\u001b[0;34m=\u001b[0m\u001b[0mimaginary_unit\u001b[0m\u001b[0;34m,\u001b[0m\u001b[0;34m\u001b[0m\u001b[0;34m\u001b[0m\u001b[0m\n",
            "\u001b[0;31mValueError\u001b[0m: could not convert string '' to float64 at row 0, column 1."
          ]
        }
      ]
    },
    {
      "cell_type": "code",
      "source": [
        "# 7 * 12 + 3 cantidad de meses -> 7 años x 12 meses, + 3 meses = 87\n",
        "np.arange(1,88,1)"
      ],
      "metadata": {
        "colab": {
          "base_uri": "https://localhost:8080/"
        },
        "id": "PVQUD9T1PrIV",
        "outputId": "d8ac2a7e-d6e9-419c-b2d8-7bf1d9b3d32f"
      },
      "execution_count": 13,
      "outputs": [
        {
          "output_type": "execute_result",
          "data": {
            "text/plain": [
              "array([ 1,  2,  3,  4,  5,  6,  7,  8,  9, 10, 11, 12, 13, 14, 15, 16, 17,\n",
              "       18, 19, 20, 21, 22, 23, 24, 25, 26, 27, 28, 29, 30, 31, 32, 33, 34,\n",
              "       35, 36, 37, 38, 39, 40, 41, 42, 43, 44, 45, 46, 47, 48, 49, 50, 51,\n",
              "       52, 53, 54, 55, 56, 57, 58, 59, 60, 61, 62, 63, 64, 65, 66, 67, 68,\n",
              "       69, 70, 71, 72, 73, 74, 75, 76, 77, 78, 79, 80, 81, 82, 83, 84, 85,\n",
              "       86, 87])"
            ]
          },
          "metadata": {},
          "execution_count": 13
        }
      ]
    },
    {
      "cell_type": "markdown",
      "source": [
        "1) Cargar desde un Gist de GitHub: En la primera forma, utilizamos un enlace \"raw\" de un Gist de GitHub que contenía el archivo CSV. Copiamos la URL y la almacenamos en una variable. Luego, utilizamos la función np.loadtxt() de NumPy, especificando la URL como el nombre del archivo y el delimitador (coma) para cargar los datos directamente desde el Gist."
      ],
      "metadata": {
        "id": "cNUAx7_wyAjt"
      }
    },
    {
      "cell_type": "code",
      "source": [
        "url =\"https://gist.githubusercontent.com/ahcamachod/41b8a65c5e5b58125401deafb68af460/raw/f84320f69efa1cc3e86e1db054422cfa4869c63e/manzanas.csv\"\n",
        "np.loadtxt(url, delimiter=\",\", usecols = np.arange(1,88,1)) #carga dataset con delimitador \",\" y mostrando las columnas del array del rango (precios de manzanas)"
      ],
      "metadata": {
        "colab": {
          "base_uri": "https://localhost:8080/"
        },
        "id": "GCOYfBKCQygD",
        "outputId": "a6b4ab67-81ff-415b-88d9-5666b77baa36"
      },
      "execution_count": 31,
      "outputs": [
        {
          "output_type": "execute_result",
          "data": {
            "text/plain": [
              "array([[  1.2013,   2.2013,   3.2013,   4.2013,   5.2013,   6.2013,\n",
              "          7.2013,   8.2013,   9.2013,  10.2013,  11.2013,  12.2013,\n",
              "          1.2014,   2.2014,   3.2014,   4.2014,   5.2014,   6.2014,\n",
              "          7.2014,   8.2014,   9.2014,  10.2014,  11.2014,  12.2014,\n",
              "          1.2015,   2.2015,   3.2015,   4.2015,   5.2015,   6.2015,\n",
              "          7.2015,   8.2015,   9.2015,  10.2015,  11.2015,  12.2015,\n",
              "          1.2016,   2.2016,   3.2016,   4.2016,   5.2016,   6.2016,\n",
              "          7.2016,   8.2016,   9.2016,  10.2016,  11.2016,  12.2016,\n",
              "          1.2017,   2.2017,   3.2017,   4.2017,   5.2017,   6.2017,\n",
              "          7.2017,   8.2017,   9.2017,  10.2017,  11.2017,  12.2017,\n",
              "          1.2018,   2.2018,   3.2018,   4.2018,   5.2018,   6.2018,\n",
              "          7.2018,   8.2018,   9.2018,  10.2018,  11.2018,  12.2018,\n",
              "          1.2019,   2.2019,   3.2019,   4.2019,   5.2019,   6.2019,\n",
              "          7.2019,   8.2019,   9.2019,  10.2019,  11.2019,  12.2019,\n",
              "          1.2020,   2.2020,   3.2020],\n",
              "       [ 79.7200,  81.0800,  79.6800,  79.8000,  80.6300,  80.8000,\n",
              "         80.2800,  78.9900,  76.7700,  76.0900,  76.3600,  77.1600,\n",
              "         77.5000,  79.0300,  80.2800,  80.0500,  78.1100,  76.9000,\n",
              "         77.6800,  76.0500,  75.5300,  73.3900,  78.3600,  89.1600,\n",
              "        105.4300, 104.8200, 101.1500,  98.6300,  99.9600,  97.2900,\n",
              "         98.6400, 104.2600, 102.6300,  98.6400,  97.1700,  98.0900,\n",
              "        103.0700, 110.2600, 110.8400, 112.2800, 111.1000, 110.0600,\n",
              "        113.7000, 112.8800, 102.0800,  95.5400,  91.3300,  89.9900,\n",
              "         91.4400,  93.5100,  93.6000,  93.7800,  98.9100, 121.7600,\n",
              "        129.6000, 127.9000, 114.5500, 101.8800,  99.0900, 103.3500,\n",
              "        106.5800, 108.0000, 114.9500, 121.1700, 122.4800, 127.5800,\n",
              "        131.8900, 129.3600, 104.2600,  93.4500,  92.9300,  96.1500,\n",
              "         99.1000, 103.0000, 103.3100, 103.0100, 107.3700, 116.9100,\n",
              "        125.2900, 123.9400, 113.0300, 102.1900,  97.8300, 101.0700,\n",
              "        103.4400, 108.2300, 110.2800],\n",
              "       [ 42.6700,  44.3700,  44.7300,  46.7500,      nan,  51.5900,\n",
              "         57.8000,  62.1400,  56.7600,  50.8500,  46.4300,  46.7300,\n",
              "         45.8500,  49.2500,  48.1400,  49.1800,  49.4900,  49.8300,\n",
              "         49.1400,  63.2100,  61.2000,  60.3400,  62.2000,  74.2000,\n",
              "         75.3200,  75.9200,  72.8900,  74.8500,  92.1900,  99.7000,\n",
              "        102.7800,  92.6700,  90.6300,  83.3100,  75.5000,  74.6000,\n",
              "         76.9400,  83.0400,  80.7400,  80.2900,  82.8200,  86.2900,\n",
              "         87.4100,  85.1000,  78.0800,  76.0600,  69.2300,  69.0400,\n",
              "         64.4800,  65.7300,  67.2000,  70.2500,  82.5900,  92.1200,\n",
              "        100.8200,  95.2300,  89.5100,  82.8400,  82.3000,  83.7600,\n",
              "         84.7200,  83.9100,  99.1400, 101.6000, 113.0300, 119.5400,\n",
              "        118.0900, 107.3200,  82.6000,  77.4000,  71.7700,  71.2500,\n",
              "         71.3500,  73.6200,  76.2000,  74.1500,  75.6700,  79.2000,\n",
              "         80.8500,  85.3300,  75.0200,  77.9500,  78.9800,  76.5500,\n",
              "         74.8900,  70.0000,  81.5300],\n",
              "       [ 62.5500,  62.7300,  63.4300,  63.8300,  66.0600,  69.2200,\n",
              "         72.0700,  69.3100,  65.1800,  62.1300,  64.1700,  65.5000,\n",
              "         66.8500,  68.3800,  68.7700,  69.3200,  69.7700,  70.1700,\n",
              "         70.7600,  75.1600,  74.8600,  71.4700,  76.0800,  82.1100,\n",
              "         94.6300,  98.5400,  97.8400,  94.5400,  97.8800,  97.7300,\n",
              "        100.8900, 104.8800, 104.3900, 101.9000,  98.9900,  99.4200,\n",
              "        106.3700, 113.8900, 114.7800, 115.6000, 115.8900, 117.6600,\n",
              "        118.2700, 114.1900, 101.8100,  91.6200,  90.1500,  90.5500,\n",
              "         92.3000,  91.7500,  92.0000,  92.5700, 100.2800, 114.3300,\n",
              "        122.1700, 117.8300, 112.4900,  93.7000,  97.1700,  95.6400,\n",
              "        102.2100, 107.5800, 110.4800, 117.7300, 122.0700, 128.5800,\n",
              "        131.1200, 127.0800, 110.9900,  97.4300,  92.0500,  93.2100,\n",
              "         98.5800, 100.2300, 102.0900, 101.7300, 107.2800, 115.3500,\n",
              "        123.0300, 123.0800, 109.7100,  97.2200,  95.7500,  97.0900,\n",
              "         98.1800, 103.1000, 110.6000],\n",
              "       [ 48.2600,  51.0100,  50.9100,  53.9400,  61.2700,  65.4400,\n",
              "         56.5100,  53.0000,  43.8700,  42.1200,  43.9800,  44.6600,\n",
              "         47.7300,  52.3100,  56.8000,  51.1500,  54.6300,  55.8000,\n",
              "         57.3100,  53.8100,  55.5000,  52.9500,  53.2900,  54.8600,\n",
              "         71.7200,  74.3600,  78.2500,  70.6300,  77.0600,  81.5200,\n",
              "         84.1200,  83.3300,  66.9800,  62.0400,  59.7900,  66.0600,\n",
              "         71.9900,  76.7900,  80.9800,  89.1800,  92.7100,  94.8500,\n",
              "         99.1800,  86.3300,  71.9400,  67.1800,  62.9800,  69.4500,\n",
              "         67.5600,  67.9200,  68.4000,  67.9700,  76.3300,  95.7900,\n",
              "        112.3600,  82.0300,  73.8300,  66.1200,  63.2400,  63.9800,\n",
              "         69.1000,  70.0400,  80.0300,  87.9200,  97.0700, 106.5200,\n",
              "        108.9300,  95.1700,  74.3100,  62.6300,  69.9200,  70.5800,\n",
              "         74.6300,  78.6900,  81.8200,  82.3600,  89.4400, 102.0100,\n",
              "        116.1200,  92.0600,  82.7000,  66.6200,  68.1100,  73.4800,\n",
              "         82.0400,  81.1900,  95.0500],\n",
              "       [ 71.2500,  71.3500,  70.9000,  71.9200,  72.9100,  74.3900,\n",
              "         73.1000,  70.2400,  69.1200,  68.9800,  68.5800,  69.5000,\n",
              "         70.1400,  70.5800,  70.7800,  72.7800,  72.8400,  74.7400,\n",
              "         76.4300,  81.2000,  82.0400,  79.6700,  81.2500,  85.8800,\n",
              "         91.3500, 101.3200, 102.4500,  98.1800, 105.1000, 104.8500,\n",
              "        111.4800, 118.5100, 118.9200, 109.8700, 105.2200, 105.4500,\n",
              "        115.6100, 116.6100, 120.3900, 119.2000, 119.9200, 120.5700,\n",
              "        123.3700, 121.3900, 118.1600, 108.8400, 100.7800,  99.9200,\n",
              "        100.6500,  98.9200, 100.3100,  96.4100, 101.2400, 118.7000,\n",
              "        133.2900, 130.3100, 122.4000, 104.9800, 107.5400, 110.7400,\n",
              "        110.5100, 111.4600, 113.4200, 118.1500, 114.0000, 124.9100,\n",
              "        126.0600, 123.3000, 111.6100,  98.8200,  97.4700, 103.0100,\n",
              "        109.3600, 104.7900, 105.0900, 103.1600, 106.5200, 121.6800,\n",
              "        125.3200, 123.4100, 108.4800,  98.7300,  96.2500, 100.1200,\n",
              "        101.2900, 102.8100, 108.5300]])"
            ]
          },
          "metadata": {},
          "execution_count": 31
        }
      ]
    },
    {
      "cell_type": "markdown",
      "source": [
        "2) Cargar desde Google Drive: En la segunda forma, montamos Google Drive en nuestro notebook de Google Colab. Luego, especificamos la ruta del archivo manzanas.csv almacenado en Google Drive y utilizamos nuevamente np.loadtxt() para cargar los datos, asegurándonos de que la ruta sea correcta y que el delimitador esté configurado adecuadamente."
      ],
      "metadata": {
        "id": "7Uo6onysyGHc"
      }
    },
    {
      "cell_type": "code",
      "source": [
        "from google.colab import drive\n",
        "drive.mount('/content/drive')"
      ],
      "metadata": {
        "colab": {
          "base_uri": "https://localhost:8080/"
        },
        "id": "GKovHYiATtKt",
        "outputId": "80e4a9b5-1eba-4bfe-f412-71155b37a91b"
      },
      "execution_count": 4,
      "outputs": [
        {
          "output_type": "stream",
          "name": "stdout",
          "text": [
            "Drive already mounted at /content/drive; to attempt to forcibly remount, call drive.mount(\"/content/drive\", force_remount=True).\n"
          ]
        }
      ]
    },
    {
      "cell_type": "code",
      "source": [
        "import numpy as np\n",
        "ruta = \"/content/drive/MyDrive/manzanas.csv\"\n",
        "np.loadtxt(ruta, delimiter=\",\", usecols = np.arange(1,88,1))\n"
      ],
      "metadata": {
        "colab": {
          "base_uri": "https://localhost:8080/"
        },
        "id": "SasX21FRRsPA",
        "outputId": "03702cd1-93a1-46bb-85b2-feed50aae7b7"
      },
      "execution_count": 36,
      "outputs": [
        {
          "output_type": "execute_result",
          "data": {
            "text/plain": [
              "array([[  1.2013,   2.2013,   3.2013,   4.2013,   5.2013,   6.2013,\n",
              "          7.2013,   8.2013,   9.2013,  10.2013,  11.2013,  12.2013,\n",
              "          1.2014,   2.2014,   3.2014,   4.2014,   5.2014,   6.2014,\n",
              "          7.2014,   8.2014,   9.2014,  10.2014,  11.2014,  12.2014,\n",
              "          1.2015,   2.2015,   3.2015,   4.2015,   5.2015,   6.2015,\n",
              "          7.2015,   8.2015,   9.2015,  10.2015,  11.2015,  12.2015,\n",
              "          1.2016,   2.2016,   3.2016,   4.2016,   5.2016,   6.2016,\n",
              "          7.2016,   8.2016,   9.2016,  10.2016,  11.2016,  12.2016,\n",
              "          1.2017,   2.2017,   3.2017,   4.2017,   5.2017,   6.2017,\n",
              "          7.2017,   8.2017,   9.2017,  10.2017,  11.2017,  12.2017,\n",
              "          1.2018,   2.2018,   3.2018,   4.2018,   5.2018,   6.2018,\n",
              "          7.2018,   8.2018,   9.2018,  10.2018,  11.2018,  12.2018,\n",
              "          1.2019,   2.2019,   3.2019,   4.2019,   5.2019,   6.2019,\n",
              "          7.2019,   8.2019,   9.2019,  10.2019,  11.2019,  12.2019,\n",
              "          1.2020,   2.2020,   3.2020],\n",
              "       [ 79.7200,  81.0800,  79.6800,  79.8000,  80.6300,  80.8000,\n",
              "         80.2800,  78.9900,  76.7700,  76.0900,  76.3600,  77.1600,\n",
              "         77.5000,  79.0300,  80.2800,  80.0500,  78.1100,  76.9000,\n",
              "         77.6800,  76.0500,  75.5300,  73.3900,  78.3600,  89.1600,\n",
              "        105.4300, 104.8200, 101.1500,  98.6300,  99.9600,  97.2900,\n",
              "         98.6400, 104.2600, 102.6300,  98.6400,  97.1700,  98.0900,\n",
              "        103.0700, 110.2600, 110.8400, 112.2800, 111.1000, 110.0600,\n",
              "        113.7000, 112.8800, 102.0800,  95.5400,  91.3300,  89.9900,\n",
              "         91.4400,  93.5100,  93.6000,  93.7800,  98.9100, 121.7600,\n",
              "        129.6000, 127.9000, 114.5500, 101.8800,  99.0900, 103.3500,\n",
              "        106.5800, 108.0000, 114.9500, 121.1700, 122.4800, 127.5800,\n",
              "        131.8900, 129.3600, 104.2600,  93.4500,  92.9300,  96.1500,\n",
              "         99.1000, 103.0000, 103.3100, 103.0100, 107.3700, 116.9100,\n",
              "        125.2900, 123.9400, 113.0300, 102.1900,  97.8300, 101.0700,\n",
              "        103.4400, 108.2300, 110.2800],\n",
              "       [ 42.6700,  44.3700,  44.7300,  46.7500,      nan,  51.5900,\n",
              "         57.8000,  62.1400,  56.7600,  50.8500,  46.4300,  46.7300,\n",
              "         45.8500,  49.2500,  48.1400,  49.1800,  49.4900,  49.8300,\n",
              "         49.1400,  63.2100,  61.2000,  60.3400,  62.2000,  74.2000,\n",
              "         75.3200,  75.9200,  72.8900,  74.8500,  92.1900,  99.7000,\n",
              "        102.7800,  92.6700,  90.6300,  83.3100,  75.5000,  74.6000,\n",
              "         76.9400,  83.0400,  80.7400,  80.2900,  82.8200,  86.2900,\n",
              "         87.4100,  85.1000,  78.0800,  76.0600,  69.2300,  69.0400,\n",
              "         64.4800,  65.7300,  67.2000,  70.2500,  82.5900,  92.1200,\n",
              "        100.8200,  95.2300,  89.5100,  82.8400,  82.3000,  83.7600,\n",
              "         84.7200,  83.9100,  99.1400, 101.6000, 113.0300, 119.5400,\n",
              "        118.0900, 107.3200,  82.6000,  77.4000,  71.7700,  71.2500,\n",
              "         71.3500,  73.6200,  76.2000,  74.1500,  75.6700,  79.2000,\n",
              "         80.8500,  85.3300,  75.0200,  77.9500,  78.9800,  76.5500,\n",
              "         74.8900,  70.0000,  81.5300],\n",
              "       [ 62.5500,  62.7300,  63.4300,  63.8300,  66.0600,  69.2200,\n",
              "         72.0700,  69.3100,  65.1800,  62.1300,  64.1700,  65.5000,\n",
              "         66.8500,  68.3800,  68.7700,  69.3200,  69.7700,  70.1700,\n",
              "         70.7600,  75.1600,  74.8600,  71.4700,  76.0800,  82.1100,\n",
              "         94.6300,  98.5400,  97.8400,  94.5400,  97.8800,  97.7300,\n",
              "        100.8900, 104.8800, 104.3900, 101.9000,  98.9900,  99.4200,\n",
              "        106.3700, 113.8900, 114.7800, 115.6000, 115.8900, 117.6600,\n",
              "        118.2700, 114.1900, 101.8100,  91.6200,  90.1500,  90.5500,\n",
              "         92.3000,  91.7500,  92.0000,  92.5700, 100.2800, 114.3300,\n",
              "        122.1700, 117.8300, 112.4900,  93.7000,  97.1700,  95.6400,\n",
              "        102.2100, 107.5800, 110.4800, 117.7300, 122.0700, 128.5800,\n",
              "        131.1200, 127.0800, 110.9900,  97.4300,  92.0500,  93.2100,\n",
              "         98.5800, 100.2300, 102.0900, 101.7300, 107.2800, 115.3500,\n",
              "        123.0300, 123.0800, 109.7100,  97.2200,  95.7500,  97.0900,\n",
              "         98.1800, 103.1000, 110.6000],\n",
              "       [ 48.2600,  51.0100,  50.9100,  53.9400,  61.2700,  65.4400,\n",
              "         56.5100,  53.0000,  43.8700,  42.1200,  43.9800,  44.6600,\n",
              "         47.7300,  52.3100,  56.8000,  51.1500,  54.6300,  55.8000,\n",
              "         57.3100,  53.8100,  55.5000,  52.9500,  53.2900,  54.8600,\n",
              "         71.7200,  74.3600,  78.2500,  70.6300,  77.0600,  81.5200,\n",
              "         84.1200,  83.3300,  66.9800,  62.0400,  59.7900,  66.0600,\n",
              "         71.9900,  76.7900,  80.9800,  89.1800,  92.7100,  94.8500,\n",
              "         99.1800,  86.3300,  71.9400,  67.1800,  62.9800,  69.4500,\n",
              "         67.5600,  67.9200,  68.4000,  67.9700,  76.3300,  95.7900,\n",
              "        112.3600,  82.0300,  73.8300,  66.1200,  63.2400,  63.9800,\n",
              "         69.1000,  70.0400,  80.0300,  87.9200,  97.0700, 106.5200,\n",
              "        108.9300,  95.1700,  74.3100,  62.6300,  69.9200,  70.5800,\n",
              "         74.6300,  78.6900,  81.8200,  82.3600,  89.4400, 102.0100,\n",
              "        116.1200,  92.0600,  82.7000,  66.6200,  68.1100,  73.4800,\n",
              "         82.0400,  81.1900,  95.0500],\n",
              "       [ 71.2500,  71.3500,  70.9000,  71.9200,  72.9100,  74.3900,\n",
              "         73.1000,  70.2400,  69.1200,  68.9800,  68.5800,  69.5000,\n",
              "         70.1400,  70.5800,  70.7800,  72.7800,  72.8400,  74.7400,\n",
              "         76.4300,  81.2000,  82.0400,  79.6700,  81.2500,  85.8800,\n",
              "         91.3500, 101.3200, 102.4500,  98.1800, 105.1000, 104.8500,\n",
              "        111.4800, 118.5100, 118.9200, 109.8700, 105.2200, 105.4500,\n",
              "        115.6100, 116.6100, 120.3900, 119.2000, 119.9200, 120.5700,\n",
              "        123.3700, 121.3900, 118.1600, 108.8400, 100.7800,  99.9200,\n",
              "        100.6500,  98.9200, 100.3100,  96.4100, 101.2400, 118.7000,\n",
              "        133.2900, 130.3100, 122.4000, 104.9800, 107.5400, 110.7400,\n",
              "        110.5100, 111.4600, 113.4200, 118.1500, 114.0000, 124.9100,\n",
              "        126.0600, 123.3000, 111.6100,  98.8200,  97.4700, 103.0100,\n",
              "        109.3600, 104.7900, 105.0900, 103.1600, 106.5200, 121.6800,\n",
              "        125.3200, 123.4100, 108.4800,  98.7300,  96.2500, 100.1200,\n",
              "        101.2900, 102.8100, 108.5300]])"
            ]
          },
          "metadata": {},
          "execution_count": 36
        }
      ]
    },
    {
      "cell_type": "code",
      "source": [
        "datos = np.loadtxt(ruta, delimiter=\",\", usecols = np.arange(1,88,1)) #almacenamos los datos"
      ],
      "metadata": {
        "id": "N72AOvOmzKER"
      },
      "execution_count": 38,
      "outputs": []
    },
    {
      "cell_type": "markdown",
      "source": [
        "______"
      ],
      "metadata": {
        "id": "bCCHMARaMQh7"
      }
    },
    {
      "cell_type": "markdown",
      "source": [
        "# **Para saber más: ventajas de los arrays**"
      ],
      "metadata": {
        "id": "aJsgcfzkCPy3"
      }
    },
    {
      "cell_type": "markdown",
      "source": [
        "Aquí tienes un ejemplo de cómo convertir una lista en un array Numpy:"
      ],
      "metadata": {
        "id": "xaKEkSMBCKMn"
      }
    },
    {
      "cell_type": "code",
      "source": [
        "import numpy as np\n",
        "\n",
        "# crea una lista\n",
        "lista = [1, 2, 3, 4, 5]\n",
        "\n",
        "# convierte la lista en un array Numpy\n",
        "array = np.array(lista)\n",
        "\n",
        "print(\"Lista: \", lista)\n",
        "print(\"Array: \", array)"
      ],
      "metadata": {
        "colab": {
          "base_uri": "https://localhost:8080/"
        },
        "id": "z5W6Sfk_CHTg",
        "outputId": "56b4f8e5-9462-4caf-aed3-c2fd3fc560b5"
      },
      "execution_count": 39,
      "outputs": [
        {
          "output_type": "stream",
          "name": "stdout",
          "text": [
            "Lista:  [1, 2, 3, 4, 5]\n",
            "Array:  [1 2 3 4 5]\n"
          ]
        }
      ]
    },
    {
      "cell_type": "markdown",
      "source": [
        "Existen varias ventajas en el uso de arrays Numpy en lugar de listas regulares de Python y aquí tienes algunas de ellas:\n",
        "\n",
        "**1.** Eficiencia de procesamiento: Las operaciones matemáticas en los arrays Numpy son mucho más rápidas que en las listas regulares, ya que Numpy está optimizado para trabajar con conjuntos de datos homogéneos y libera memoria de la computadora de manera rápida.\n",
        "\n",
        "**2.** Facilidad de uso: Las operaciones matemáticas en los arrays Numpy se expresan de manera mucho más clara y concisa que en las listas regulares, lo que hace que el código sea más fácil de leer y mantener.\n",
        "\n",
        "**3.** Integración con otras bibliotecas: Numpy es una de las bibliotecas más utilizadas en ciencia de datos y aprendizaje automático. Muchas otras bibliotecas, como Pandas y Matplotlib, están diseñadas para trabajar directamente con arrays Numpy.\n",
        "\n",
        "**Comparación de rendimiento: listas vs arrays**\n",
        "\n",
        "Centrándonos en la eficiencia, podemos comparar el tiempo necesario para realizar un cálculo utilizando listas y arrays."
      ],
      "metadata": {
        "id": "0iSKthRSCUiH"
      }
    },
    {
      "cell_type": "code",
      "source": [
        "import numpy as np\n",
        "import time\n",
        "\n",
        "# crea una lista con 1000000 elementos\n",
        "lista = list(range(1000000))\n",
        "\n",
        "# convierte la lista en un array Numpy\n",
        "array = np.array(lista)\n",
        "\n",
        "# comienza a medir el tiempo para la operación con la lista\n",
        "start_time = time.time()\n",
        "\n",
        "# realiza la operación de elevar al cuadrado cada elemento de la lista\n",
        "lista_cuadrado = [i**2 for i in lista]\n",
        "\n",
        "# detiene el cronómetro\n",
        "tiempo_lista = time.time() - start_time\n",
        "\n",
        "# comienza a medir el tiempo para la operación con el array\n",
        "start_time = time.time()\n",
        "\n",
        "# realiza la operación de elevar al cuadrado cada elemento del array\n",
        "array_cuadrado = array**2\n",
        "\n",
        "# detiene el cronómetro\n",
        "tiempo_array = time.time() - start_time\n",
        "\n",
        "print(\"Tiempo de la operación con la lista: \", tiempo_lista)\n",
        "print(\"Tiempo de la operación con el array: \", tiempo_array)\n",
        "\n",
        "#El tiempo de operación con array es mucho más rápida."
      ],
      "metadata": {
        "colab": {
          "base_uri": "https://localhost:8080/"
        },
        "id": "mlkIRcg1CgOq",
        "outputId": "54c4d01b-79d7-4fe8-a7bf-634a951e1390"
      },
      "execution_count": 45,
      "outputs": [
        {
          "output_type": "stream",
          "name": "stdout",
          "text": [
            "Tiempo de la operación con la lista:  0.09795832633972168\n",
            "Tiempo de la operación con el array:  0.0036344528198242188\n"
          ]
        }
      ]
    },
    {
      "cell_type": "markdown",
      "source": [
        "______"
      ],
      "metadata": {
        "id": "UZfe5fmSDbs9"
      }
    },
    {
      "cell_type": "code",
      "source": [
        "datos.ndim"
      ],
      "metadata": {
        "colab": {
          "base_uri": "https://localhost:8080/"
        },
        "id": "dwR8FxfmCUxb",
        "outputId": "1c346f26-1868-4efa-a54b-95c33f8dbf5d"
      },
      "execution_count": 47,
      "outputs": [
        {
          "output_type": "execute_result",
          "data": {
            "text/plain": [
              "2"
            ]
          },
          "metadata": {},
          "execution_count": 47
        }
      ]
    },
    {
      "cell_type": "code",
      "source": [
        "datos.shape"
      ],
      "metadata": {
        "colab": {
          "base_uri": "https://localhost:8080/"
        },
        "id": "-zE7F_JeERBj",
        "outputId": "6bff3bf4-4784-4f35-cd20-03abf195236a"
      },
      "execution_count": 48,
      "outputs": [
        {
          "output_type": "execute_result",
          "data": {
            "text/plain": [
              "(6, 87)"
            ]
          },
          "metadata": {},
          "execution_count": 48
        }
      ]
    },
    {
      "cell_type": "code",
      "source": [
        "datos"
      ],
      "metadata": {
        "colab": {
          "base_uri": "https://localhost:8080/"
        },
        "id": "wLlXnUTvES7S",
        "outputId": "e90a3e7c-9148-4580-ed3c-839aa19ad52c"
      },
      "execution_count": 49,
      "outputs": [
        {
          "output_type": "execute_result",
          "data": {
            "text/plain": [
              "array([[  1.2013,   2.2013,   3.2013,   4.2013,   5.2013,   6.2013,\n",
              "          7.2013,   8.2013,   9.2013,  10.2013,  11.2013,  12.2013,\n",
              "          1.2014,   2.2014,   3.2014,   4.2014,   5.2014,   6.2014,\n",
              "          7.2014,   8.2014,   9.2014,  10.2014,  11.2014,  12.2014,\n",
              "          1.2015,   2.2015,   3.2015,   4.2015,   5.2015,   6.2015,\n",
              "          7.2015,   8.2015,   9.2015,  10.2015,  11.2015,  12.2015,\n",
              "          1.2016,   2.2016,   3.2016,   4.2016,   5.2016,   6.2016,\n",
              "          7.2016,   8.2016,   9.2016,  10.2016,  11.2016,  12.2016,\n",
              "          1.2017,   2.2017,   3.2017,   4.2017,   5.2017,   6.2017,\n",
              "          7.2017,   8.2017,   9.2017,  10.2017,  11.2017,  12.2017,\n",
              "          1.2018,   2.2018,   3.2018,   4.2018,   5.2018,   6.2018,\n",
              "          7.2018,   8.2018,   9.2018,  10.2018,  11.2018,  12.2018,\n",
              "          1.2019,   2.2019,   3.2019,   4.2019,   5.2019,   6.2019,\n",
              "          7.2019,   8.2019,   9.2019,  10.2019,  11.2019,  12.2019,\n",
              "          1.2020,   2.2020,   3.2020],\n",
              "       [ 79.7200,  81.0800,  79.6800,  79.8000,  80.6300,  80.8000,\n",
              "         80.2800,  78.9900,  76.7700,  76.0900,  76.3600,  77.1600,\n",
              "         77.5000,  79.0300,  80.2800,  80.0500,  78.1100,  76.9000,\n",
              "         77.6800,  76.0500,  75.5300,  73.3900,  78.3600,  89.1600,\n",
              "        105.4300, 104.8200, 101.1500,  98.6300,  99.9600,  97.2900,\n",
              "         98.6400, 104.2600, 102.6300,  98.6400,  97.1700,  98.0900,\n",
              "        103.0700, 110.2600, 110.8400, 112.2800, 111.1000, 110.0600,\n",
              "        113.7000, 112.8800, 102.0800,  95.5400,  91.3300,  89.9900,\n",
              "         91.4400,  93.5100,  93.6000,  93.7800,  98.9100, 121.7600,\n",
              "        129.6000, 127.9000, 114.5500, 101.8800,  99.0900, 103.3500,\n",
              "        106.5800, 108.0000, 114.9500, 121.1700, 122.4800, 127.5800,\n",
              "        131.8900, 129.3600, 104.2600,  93.4500,  92.9300,  96.1500,\n",
              "         99.1000, 103.0000, 103.3100, 103.0100, 107.3700, 116.9100,\n",
              "        125.2900, 123.9400, 113.0300, 102.1900,  97.8300, 101.0700,\n",
              "        103.4400, 108.2300, 110.2800],\n",
              "       [ 42.6700,  44.3700,  44.7300,  46.7500,      nan,  51.5900,\n",
              "         57.8000,  62.1400,  56.7600,  50.8500,  46.4300,  46.7300,\n",
              "         45.8500,  49.2500,  48.1400,  49.1800,  49.4900,  49.8300,\n",
              "         49.1400,  63.2100,  61.2000,  60.3400,  62.2000,  74.2000,\n",
              "         75.3200,  75.9200,  72.8900,  74.8500,  92.1900,  99.7000,\n",
              "        102.7800,  92.6700,  90.6300,  83.3100,  75.5000,  74.6000,\n",
              "         76.9400,  83.0400,  80.7400,  80.2900,  82.8200,  86.2900,\n",
              "         87.4100,  85.1000,  78.0800,  76.0600,  69.2300,  69.0400,\n",
              "         64.4800,  65.7300,  67.2000,  70.2500,  82.5900,  92.1200,\n",
              "        100.8200,  95.2300,  89.5100,  82.8400,  82.3000,  83.7600,\n",
              "         84.7200,  83.9100,  99.1400, 101.6000, 113.0300, 119.5400,\n",
              "        118.0900, 107.3200,  82.6000,  77.4000,  71.7700,  71.2500,\n",
              "         71.3500,  73.6200,  76.2000,  74.1500,  75.6700,  79.2000,\n",
              "         80.8500,  85.3300,  75.0200,  77.9500,  78.9800,  76.5500,\n",
              "         74.8900,  70.0000,  81.5300],\n",
              "       [ 62.5500,  62.7300,  63.4300,  63.8300,  66.0600,  69.2200,\n",
              "         72.0700,  69.3100,  65.1800,  62.1300,  64.1700,  65.5000,\n",
              "         66.8500,  68.3800,  68.7700,  69.3200,  69.7700,  70.1700,\n",
              "         70.7600,  75.1600,  74.8600,  71.4700,  76.0800,  82.1100,\n",
              "         94.6300,  98.5400,  97.8400,  94.5400,  97.8800,  97.7300,\n",
              "        100.8900, 104.8800, 104.3900, 101.9000,  98.9900,  99.4200,\n",
              "        106.3700, 113.8900, 114.7800, 115.6000, 115.8900, 117.6600,\n",
              "        118.2700, 114.1900, 101.8100,  91.6200,  90.1500,  90.5500,\n",
              "         92.3000,  91.7500,  92.0000,  92.5700, 100.2800, 114.3300,\n",
              "        122.1700, 117.8300, 112.4900,  93.7000,  97.1700,  95.6400,\n",
              "        102.2100, 107.5800, 110.4800, 117.7300, 122.0700, 128.5800,\n",
              "        131.1200, 127.0800, 110.9900,  97.4300,  92.0500,  93.2100,\n",
              "         98.5800, 100.2300, 102.0900, 101.7300, 107.2800, 115.3500,\n",
              "        123.0300, 123.0800, 109.7100,  97.2200,  95.7500,  97.0900,\n",
              "         98.1800, 103.1000, 110.6000],\n",
              "       [ 48.2600,  51.0100,  50.9100,  53.9400,  61.2700,  65.4400,\n",
              "         56.5100,  53.0000,  43.8700,  42.1200,  43.9800,  44.6600,\n",
              "         47.7300,  52.3100,  56.8000,  51.1500,  54.6300,  55.8000,\n",
              "         57.3100,  53.8100,  55.5000,  52.9500,  53.2900,  54.8600,\n",
              "         71.7200,  74.3600,  78.2500,  70.6300,  77.0600,  81.5200,\n",
              "         84.1200,  83.3300,  66.9800,  62.0400,  59.7900,  66.0600,\n",
              "         71.9900,  76.7900,  80.9800,  89.1800,  92.7100,  94.8500,\n",
              "         99.1800,  86.3300,  71.9400,  67.1800,  62.9800,  69.4500,\n",
              "         67.5600,  67.9200,  68.4000,  67.9700,  76.3300,  95.7900,\n",
              "        112.3600,  82.0300,  73.8300,  66.1200,  63.2400,  63.9800,\n",
              "         69.1000,  70.0400,  80.0300,  87.9200,  97.0700, 106.5200,\n",
              "        108.9300,  95.1700,  74.3100,  62.6300,  69.9200,  70.5800,\n",
              "         74.6300,  78.6900,  81.8200,  82.3600,  89.4400, 102.0100,\n",
              "        116.1200,  92.0600,  82.7000,  66.6200,  68.1100,  73.4800,\n",
              "         82.0400,  81.1900,  95.0500],\n",
              "       [ 71.2500,  71.3500,  70.9000,  71.9200,  72.9100,  74.3900,\n",
              "         73.1000,  70.2400,  69.1200,  68.9800,  68.5800,  69.5000,\n",
              "         70.1400,  70.5800,  70.7800,  72.7800,  72.8400,  74.7400,\n",
              "         76.4300,  81.2000,  82.0400,  79.6700,  81.2500,  85.8800,\n",
              "         91.3500, 101.3200, 102.4500,  98.1800, 105.1000, 104.8500,\n",
              "        111.4800, 118.5100, 118.9200, 109.8700, 105.2200, 105.4500,\n",
              "        115.6100, 116.6100, 120.3900, 119.2000, 119.9200, 120.5700,\n",
              "        123.3700, 121.3900, 118.1600, 108.8400, 100.7800,  99.9200,\n",
              "        100.6500,  98.9200, 100.3100,  96.4100, 101.2400, 118.7000,\n",
              "        133.2900, 130.3100, 122.4000, 104.9800, 107.5400, 110.7400,\n",
              "        110.5100, 111.4600, 113.4200, 118.1500, 114.0000, 124.9100,\n",
              "        126.0600, 123.3000, 111.6100,  98.8200,  97.4700, 103.0100,\n",
              "        109.3600, 104.7900, 105.0900, 103.1600, 106.5200, 121.6800,\n",
              "        125.3200, 123.4100, 108.4800,  98.7300,  96.2500, 100.1200,\n",
              "        101.2900, 102.8100, 108.5300]])"
            ]
          },
          "metadata": {},
          "execution_count": 49
        }
      ]
    },
    {
      "cell_type": "code",
      "source": [
        "datos.T"
      ],
      "metadata": {
        "colab": {
          "base_uri": "https://localhost:8080/"
        },
        "id": "iMWVtjTYEVec",
        "outputId": "178fdf35-6d54-46db-8404-3c6dbfa6b998"
      },
      "execution_count": 50,
      "outputs": [
        {
          "output_type": "execute_result",
          "data": {
            "text/plain": [
              "array([[  1.2013,  79.7200,  42.6700,  62.5500,  48.2600,  71.2500],\n",
              "       [  2.2013,  81.0800,  44.3700,  62.7300,  51.0100,  71.3500],\n",
              "       [  3.2013,  79.6800,  44.7300,  63.4300,  50.9100,  70.9000],\n",
              "       [  4.2013,  79.8000,  46.7500,  63.8300,  53.9400,  71.9200],\n",
              "       [  5.2013,  80.6300,      nan,  66.0600,  61.2700,  72.9100],\n",
              "       [  6.2013,  80.8000,  51.5900,  69.2200,  65.4400,  74.3900],\n",
              "       [  7.2013,  80.2800,  57.8000,  72.0700,  56.5100,  73.1000],\n",
              "       [  8.2013,  78.9900,  62.1400,  69.3100,  53.0000,  70.2400],\n",
              "       [  9.2013,  76.7700,  56.7600,  65.1800,  43.8700,  69.1200],\n",
              "       [ 10.2013,  76.0900,  50.8500,  62.1300,  42.1200,  68.9800],\n",
              "       [ 11.2013,  76.3600,  46.4300,  64.1700,  43.9800,  68.5800],\n",
              "       [ 12.2013,  77.1600,  46.7300,  65.5000,  44.6600,  69.5000],\n",
              "       [  1.2014,  77.5000,  45.8500,  66.8500,  47.7300,  70.1400],\n",
              "       [  2.2014,  79.0300,  49.2500,  68.3800,  52.3100,  70.5800],\n",
              "       [  3.2014,  80.2800,  48.1400,  68.7700,  56.8000,  70.7800],\n",
              "       [  4.2014,  80.0500,  49.1800,  69.3200,  51.1500,  72.7800],\n",
              "       [  5.2014,  78.1100,  49.4900,  69.7700,  54.6300,  72.8400],\n",
              "       [  6.2014,  76.9000,  49.8300,  70.1700,  55.8000,  74.7400],\n",
              "       [  7.2014,  77.6800,  49.1400,  70.7600,  57.3100,  76.4300],\n",
              "       [  8.2014,  76.0500,  63.2100,  75.1600,  53.8100,  81.2000],\n",
              "       [  9.2014,  75.5300,  61.2000,  74.8600,  55.5000,  82.0400],\n",
              "       [ 10.2014,  73.3900,  60.3400,  71.4700,  52.9500,  79.6700],\n",
              "       [ 11.2014,  78.3600,  62.2000,  76.0800,  53.2900,  81.2500],\n",
              "       [ 12.2014,  89.1600,  74.2000,  82.1100,  54.8600,  85.8800],\n",
              "       [  1.2015, 105.4300,  75.3200,  94.6300,  71.7200,  91.3500],\n",
              "       [  2.2015, 104.8200,  75.9200,  98.5400,  74.3600, 101.3200],\n",
              "       [  3.2015, 101.1500,  72.8900,  97.8400,  78.2500, 102.4500],\n",
              "       [  4.2015,  98.6300,  74.8500,  94.5400,  70.6300,  98.1800],\n",
              "       [  5.2015,  99.9600,  92.1900,  97.8800,  77.0600, 105.1000],\n",
              "       [  6.2015,  97.2900,  99.7000,  97.7300,  81.5200, 104.8500],\n",
              "       [  7.2015,  98.6400, 102.7800, 100.8900,  84.1200, 111.4800],\n",
              "       [  8.2015, 104.2600,  92.6700, 104.8800,  83.3300, 118.5100],\n",
              "       [  9.2015, 102.6300,  90.6300, 104.3900,  66.9800, 118.9200],\n",
              "       [ 10.2015,  98.6400,  83.3100, 101.9000,  62.0400, 109.8700],\n",
              "       [ 11.2015,  97.1700,  75.5000,  98.9900,  59.7900, 105.2200],\n",
              "       [ 12.2015,  98.0900,  74.6000,  99.4200,  66.0600, 105.4500],\n",
              "       [  1.2016, 103.0700,  76.9400, 106.3700,  71.9900, 115.6100],\n",
              "       [  2.2016, 110.2600,  83.0400, 113.8900,  76.7900, 116.6100],\n",
              "       [  3.2016, 110.8400,  80.7400, 114.7800,  80.9800, 120.3900],\n",
              "       [  4.2016, 112.2800,  80.2900, 115.6000,  89.1800, 119.2000],\n",
              "       [  5.2016, 111.1000,  82.8200, 115.8900,  92.7100, 119.9200],\n",
              "       [  6.2016, 110.0600,  86.2900, 117.6600,  94.8500, 120.5700],\n",
              "       [  7.2016, 113.7000,  87.4100, 118.2700,  99.1800, 123.3700],\n",
              "       [  8.2016, 112.8800,  85.1000, 114.1900,  86.3300, 121.3900],\n",
              "       [  9.2016, 102.0800,  78.0800, 101.8100,  71.9400, 118.1600],\n",
              "       [ 10.2016,  95.5400,  76.0600,  91.6200,  67.1800, 108.8400],\n",
              "       [ 11.2016,  91.3300,  69.2300,  90.1500,  62.9800, 100.7800],\n",
              "       [ 12.2016,  89.9900,  69.0400,  90.5500,  69.4500,  99.9200],\n",
              "       [  1.2017,  91.4400,  64.4800,  92.3000,  67.5600, 100.6500],\n",
              "       [  2.2017,  93.5100,  65.7300,  91.7500,  67.9200,  98.9200],\n",
              "       [  3.2017,  93.6000,  67.2000,  92.0000,  68.4000, 100.3100],\n",
              "       [  4.2017,  93.7800,  70.2500,  92.5700,  67.9700,  96.4100],\n",
              "       [  5.2017,  98.9100,  82.5900, 100.2800,  76.3300, 101.2400],\n",
              "       [  6.2017, 121.7600,  92.1200, 114.3300,  95.7900, 118.7000],\n",
              "       [  7.2017, 129.6000, 100.8200, 122.1700, 112.3600, 133.2900],\n",
              "       [  8.2017, 127.9000,  95.2300, 117.8300,  82.0300, 130.3100],\n",
              "       [  9.2017, 114.5500,  89.5100, 112.4900,  73.8300, 122.4000],\n",
              "       [ 10.2017, 101.8800,  82.8400,  93.7000,  66.1200, 104.9800],\n",
              "       [ 11.2017,  99.0900,  82.3000,  97.1700,  63.2400, 107.5400],\n",
              "       [ 12.2017, 103.3500,  83.7600,  95.6400,  63.9800, 110.7400],\n",
              "       [  1.2018, 106.5800,  84.7200, 102.2100,  69.1000, 110.5100],\n",
              "       [  2.2018, 108.0000,  83.9100, 107.5800,  70.0400, 111.4600],\n",
              "       [  3.2018, 114.9500,  99.1400, 110.4800,  80.0300, 113.4200],\n",
              "       [  4.2018, 121.1700, 101.6000, 117.7300,  87.9200, 118.1500],\n",
              "       [  5.2018, 122.4800, 113.0300, 122.0700,  97.0700, 114.0000],\n",
              "       [  6.2018, 127.5800, 119.5400, 128.5800, 106.5200, 124.9100],\n",
              "       [  7.2018, 131.8900, 118.0900, 131.1200, 108.9300, 126.0600],\n",
              "       [  8.2018, 129.3600, 107.3200, 127.0800,  95.1700, 123.3000],\n",
              "       [  9.2018, 104.2600,  82.6000, 110.9900,  74.3100, 111.6100],\n",
              "       [ 10.2018,  93.4500,  77.4000,  97.4300,  62.6300,  98.8200],\n",
              "       [ 11.2018,  92.9300,  71.7700,  92.0500,  69.9200,  97.4700],\n",
              "       [ 12.2018,  96.1500,  71.2500,  93.2100,  70.5800, 103.0100],\n",
              "       [  1.2019,  99.1000,  71.3500,  98.5800,  74.6300, 109.3600],\n",
              "       [  2.2019, 103.0000,  73.6200, 100.2300,  78.6900, 104.7900],\n",
              "       [  3.2019, 103.3100,  76.2000, 102.0900,  81.8200, 105.0900],\n",
              "       [  4.2019, 103.0100,  74.1500, 101.7300,  82.3600, 103.1600],\n",
              "       [  5.2019, 107.3700,  75.6700, 107.2800,  89.4400, 106.5200],\n",
              "       [  6.2019, 116.9100,  79.2000, 115.3500, 102.0100, 121.6800],\n",
              "       [  7.2019, 125.2900,  80.8500, 123.0300, 116.1200, 125.3200],\n",
              "       [  8.2019, 123.9400,  85.3300, 123.0800,  92.0600, 123.4100],\n",
              "       [  9.2019, 113.0300,  75.0200, 109.7100,  82.7000, 108.4800],\n",
              "       [ 10.2019, 102.1900,  77.9500,  97.2200,  66.6200,  98.7300],\n",
              "       [ 11.2019,  97.8300,  78.9800,  95.7500,  68.1100,  96.2500],\n",
              "       [ 12.2019, 101.0700,  76.5500,  97.0900,  73.4800, 100.1200],\n",
              "       [  1.2020, 103.4400,  74.8900,  98.1800,  82.0400, 101.2900],\n",
              "       [  2.2020, 108.2300,  70.0000, 103.1000,  81.1900, 102.8100],\n",
              "       [  3.2020, 110.2800,  81.5300, 110.6000,  95.0500, 108.5300]])"
            ]
          },
          "metadata": {},
          "execution_count": 50
        }
      ]
    },
    {
      "cell_type": "code",
      "source": [
        "datos_transpuestos = datos.T"
      ],
      "metadata": {
        "id": "oW5ex9BtEZsW"
      },
      "execution_count": 53,
      "outputs": []
    },
    {
      "cell_type": "code",
      "source": [
        "datos_transpuestos"
      ],
      "metadata": {
        "colab": {
          "base_uri": "https://localhost:8080/"
        },
        "id": "FBopVC5QEimQ",
        "outputId": "9a38cf1d-79c5-4983-ae90-f68662b876e6"
      },
      "execution_count": 54,
      "outputs": [
        {
          "output_type": "execute_result",
          "data": {
            "text/plain": [
              "array([[  1.2013,  79.7200,  42.6700,  62.5500,  48.2600,  71.2500],\n",
              "       [  2.2013,  81.0800,  44.3700,  62.7300,  51.0100,  71.3500],\n",
              "       [  3.2013,  79.6800,  44.7300,  63.4300,  50.9100,  70.9000],\n",
              "       [  4.2013,  79.8000,  46.7500,  63.8300,  53.9400,  71.9200],\n",
              "       [  5.2013,  80.6300,      nan,  66.0600,  61.2700,  72.9100],\n",
              "       [  6.2013,  80.8000,  51.5900,  69.2200,  65.4400,  74.3900],\n",
              "       [  7.2013,  80.2800,  57.8000,  72.0700,  56.5100,  73.1000],\n",
              "       [  8.2013,  78.9900,  62.1400,  69.3100,  53.0000,  70.2400],\n",
              "       [  9.2013,  76.7700,  56.7600,  65.1800,  43.8700,  69.1200],\n",
              "       [ 10.2013,  76.0900,  50.8500,  62.1300,  42.1200,  68.9800],\n",
              "       [ 11.2013,  76.3600,  46.4300,  64.1700,  43.9800,  68.5800],\n",
              "       [ 12.2013,  77.1600,  46.7300,  65.5000,  44.6600,  69.5000],\n",
              "       [  1.2014,  77.5000,  45.8500,  66.8500,  47.7300,  70.1400],\n",
              "       [  2.2014,  79.0300,  49.2500,  68.3800,  52.3100,  70.5800],\n",
              "       [  3.2014,  80.2800,  48.1400,  68.7700,  56.8000,  70.7800],\n",
              "       [  4.2014,  80.0500,  49.1800,  69.3200,  51.1500,  72.7800],\n",
              "       [  5.2014,  78.1100,  49.4900,  69.7700,  54.6300,  72.8400],\n",
              "       [  6.2014,  76.9000,  49.8300,  70.1700,  55.8000,  74.7400],\n",
              "       [  7.2014,  77.6800,  49.1400,  70.7600,  57.3100,  76.4300],\n",
              "       [  8.2014,  76.0500,  63.2100,  75.1600,  53.8100,  81.2000],\n",
              "       [  9.2014,  75.5300,  61.2000,  74.8600,  55.5000,  82.0400],\n",
              "       [ 10.2014,  73.3900,  60.3400,  71.4700,  52.9500,  79.6700],\n",
              "       [ 11.2014,  78.3600,  62.2000,  76.0800,  53.2900,  81.2500],\n",
              "       [ 12.2014,  89.1600,  74.2000,  82.1100,  54.8600,  85.8800],\n",
              "       [  1.2015, 105.4300,  75.3200,  94.6300,  71.7200,  91.3500],\n",
              "       [  2.2015, 104.8200,  75.9200,  98.5400,  74.3600, 101.3200],\n",
              "       [  3.2015, 101.1500,  72.8900,  97.8400,  78.2500, 102.4500],\n",
              "       [  4.2015,  98.6300,  74.8500,  94.5400,  70.6300,  98.1800],\n",
              "       [  5.2015,  99.9600,  92.1900,  97.8800,  77.0600, 105.1000],\n",
              "       [  6.2015,  97.2900,  99.7000,  97.7300,  81.5200, 104.8500],\n",
              "       [  7.2015,  98.6400, 102.7800, 100.8900,  84.1200, 111.4800],\n",
              "       [  8.2015, 104.2600,  92.6700, 104.8800,  83.3300, 118.5100],\n",
              "       [  9.2015, 102.6300,  90.6300, 104.3900,  66.9800, 118.9200],\n",
              "       [ 10.2015,  98.6400,  83.3100, 101.9000,  62.0400, 109.8700],\n",
              "       [ 11.2015,  97.1700,  75.5000,  98.9900,  59.7900, 105.2200],\n",
              "       [ 12.2015,  98.0900,  74.6000,  99.4200,  66.0600, 105.4500],\n",
              "       [  1.2016, 103.0700,  76.9400, 106.3700,  71.9900, 115.6100],\n",
              "       [  2.2016, 110.2600,  83.0400, 113.8900,  76.7900, 116.6100],\n",
              "       [  3.2016, 110.8400,  80.7400, 114.7800,  80.9800, 120.3900],\n",
              "       [  4.2016, 112.2800,  80.2900, 115.6000,  89.1800, 119.2000],\n",
              "       [  5.2016, 111.1000,  82.8200, 115.8900,  92.7100, 119.9200],\n",
              "       [  6.2016, 110.0600,  86.2900, 117.6600,  94.8500, 120.5700],\n",
              "       [  7.2016, 113.7000,  87.4100, 118.2700,  99.1800, 123.3700],\n",
              "       [  8.2016, 112.8800,  85.1000, 114.1900,  86.3300, 121.3900],\n",
              "       [  9.2016, 102.0800,  78.0800, 101.8100,  71.9400, 118.1600],\n",
              "       [ 10.2016,  95.5400,  76.0600,  91.6200,  67.1800, 108.8400],\n",
              "       [ 11.2016,  91.3300,  69.2300,  90.1500,  62.9800, 100.7800],\n",
              "       [ 12.2016,  89.9900,  69.0400,  90.5500,  69.4500,  99.9200],\n",
              "       [  1.2017,  91.4400,  64.4800,  92.3000,  67.5600, 100.6500],\n",
              "       [  2.2017,  93.5100,  65.7300,  91.7500,  67.9200,  98.9200],\n",
              "       [  3.2017,  93.6000,  67.2000,  92.0000,  68.4000, 100.3100],\n",
              "       [  4.2017,  93.7800,  70.2500,  92.5700,  67.9700,  96.4100],\n",
              "       [  5.2017,  98.9100,  82.5900, 100.2800,  76.3300, 101.2400],\n",
              "       [  6.2017, 121.7600,  92.1200, 114.3300,  95.7900, 118.7000],\n",
              "       [  7.2017, 129.6000, 100.8200, 122.1700, 112.3600, 133.2900],\n",
              "       [  8.2017, 127.9000,  95.2300, 117.8300,  82.0300, 130.3100],\n",
              "       [  9.2017, 114.5500,  89.5100, 112.4900,  73.8300, 122.4000],\n",
              "       [ 10.2017, 101.8800,  82.8400,  93.7000,  66.1200, 104.9800],\n",
              "       [ 11.2017,  99.0900,  82.3000,  97.1700,  63.2400, 107.5400],\n",
              "       [ 12.2017, 103.3500,  83.7600,  95.6400,  63.9800, 110.7400],\n",
              "       [  1.2018, 106.5800,  84.7200, 102.2100,  69.1000, 110.5100],\n",
              "       [  2.2018, 108.0000,  83.9100, 107.5800,  70.0400, 111.4600],\n",
              "       [  3.2018, 114.9500,  99.1400, 110.4800,  80.0300, 113.4200],\n",
              "       [  4.2018, 121.1700, 101.6000, 117.7300,  87.9200, 118.1500],\n",
              "       [  5.2018, 122.4800, 113.0300, 122.0700,  97.0700, 114.0000],\n",
              "       [  6.2018, 127.5800, 119.5400, 128.5800, 106.5200, 124.9100],\n",
              "       [  7.2018, 131.8900, 118.0900, 131.1200, 108.9300, 126.0600],\n",
              "       [  8.2018, 129.3600, 107.3200, 127.0800,  95.1700, 123.3000],\n",
              "       [  9.2018, 104.2600,  82.6000, 110.9900,  74.3100, 111.6100],\n",
              "       [ 10.2018,  93.4500,  77.4000,  97.4300,  62.6300,  98.8200],\n",
              "       [ 11.2018,  92.9300,  71.7700,  92.0500,  69.9200,  97.4700],\n",
              "       [ 12.2018,  96.1500,  71.2500,  93.2100,  70.5800, 103.0100],\n",
              "       [  1.2019,  99.1000,  71.3500,  98.5800,  74.6300, 109.3600],\n",
              "       [  2.2019, 103.0000,  73.6200, 100.2300,  78.6900, 104.7900],\n",
              "       [  3.2019, 103.3100,  76.2000, 102.0900,  81.8200, 105.0900],\n",
              "       [  4.2019, 103.0100,  74.1500, 101.7300,  82.3600, 103.1600],\n",
              "       [  5.2019, 107.3700,  75.6700, 107.2800,  89.4400, 106.5200],\n",
              "       [  6.2019, 116.9100,  79.2000, 115.3500, 102.0100, 121.6800],\n",
              "       [  7.2019, 125.2900,  80.8500, 123.0300, 116.1200, 125.3200],\n",
              "       [  8.2019, 123.9400,  85.3300, 123.0800,  92.0600, 123.4100],\n",
              "       [  9.2019, 113.0300,  75.0200, 109.7100,  82.7000, 108.4800],\n",
              "       [ 10.2019, 102.1900,  77.9500,  97.2200,  66.6200,  98.7300],\n",
              "       [ 11.2019,  97.8300,  78.9800,  95.7500,  68.1100,  96.2500],\n",
              "       [ 12.2019, 101.0700,  76.5500,  97.0900,  73.4800, 100.1200],\n",
              "       [  1.2020, 103.4400,  74.8900,  98.1800,  82.0400, 101.2900],\n",
              "       [  2.2020, 108.2300,  70.0000, 103.1000,  81.1900, 102.8100],\n",
              "       [  3.2020, 110.2800,  81.5300, 110.6000,  95.0500, 108.5300]])"
            ]
          },
          "metadata": {},
          "execution_count": 54
        }
      ]
    },
    {
      "cell_type": "markdown",
      "source": [
        "_______"
      ],
      "metadata": {
        "id": "vGnplC0QL9Iy"
      }
    },
    {
      "cell_type": "markdown",
      "source": [
        "Otro Ejemplo de `.shape`:"
      ],
      "metadata": {
        "id": "dFlcD1S7MAXy"
      }
    },
    {
      "cell_type": "code",
      "source": [
        "url = 'https://raw.githubusercontent.com/allanspadini/numpy/dados/bytebank.csv'\n",
        "import numpy as np\n",
        "dato = np.loadtxt(url, delimiter=',', skiprows=1, dtype=float) #skiprows=1 omite la primera fila\n",
        "dato.shape"
      ],
      "metadata": {
        "colab": {
          "base_uri": "https://localhost:8080/"
        },
        "id": "s0T6aR9VEWTg",
        "outputId": "2618dd50-4a44-47d9-cd89-7e662adc3e2b"
      },
      "execution_count": 55,
      "outputs": [
        {
          "output_type": "execute_result",
          "data": {
            "text/plain": [
              "(12, 2)"
            ]
          },
          "metadata": {},
          "execution_count": 55
        }
      ]
    },
    {
      "cell_type": "markdown",
      "source": [
        "_____\n"
      ],
      "metadata": {
        "id": "d6pwvt3jMJTr"
      }
    },
    {
      "cell_type": "markdown",
      "source": [
        "# **Haga lo que hicimos**\n",
        "\n",
        "Ha llegado el momento de poner a prueba los conocimientos adquiridos durante la lección. Para ello, vamos a utilizar otro conjunto de datos en un desafío que se desarrollará a lo largo del curso. Este conjunto de datos es una versión modificada del [archivo](https://www.kaggle.com/datasets/joshmcadams/oranges-vs-grapefruit) disponible en el sitio de Kaggle. Por lo tanto, utilizaremos el [archivo raw](https://gist.githubusercontent.com/ahcamachod/9be09de793dc3bf1e6c3d98eb4e5b1ef/raw/21b85572693200040e11284ef6dcfc3457ec8e11/citrus.csv) disponible en Github.\n",
        "\n",
        "En esta etapa, debes cargar los datos. Para hacerlo, importa NumPy y utiliza la función loadtxt. Utiliza el enlace de la URL y el parámetro usecols para omitir la primera columna. Puedes usar np.arange para crear la secuencia de números que representan las columnas. Por último, también es necesario incluir el parámetro skiprows=1 para que la primera línea de texto se omita al leer el archivo.\n",
        "\n"
      ],
      "metadata": {
        "id": "PBEG0spqM2uL"
      }
    },
    {
      "cell_type": "code",
      "source": [
        "import numpy as np\n",
        "enlace = \"https://gist.githubusercontent.com/ahcamachod/9be09de793dc3bf1e6c3d98eb4e5b1ef/raw/21b85572693200040e11284ef6dcfc3457ec8e11/citrus.csv\"\n",
        "\n",
        "carga_datos = np.loadtxt(enlace,delimiter=\",\",usecols= np.arange(1,6,1),skiprows=1)\n",
        "carga_datos"
      ],
      "metadata": {
        "colab": {
          "base_uri": "https://localhost:8080/"
        },
        "id": "H_EFDQt0MLMQ",
        "outputId": "dba4a1d0-36f3-45fa-c853-b483f42eff14"
      },
      "execution_count": 70,
      "outputs": [
        {
          "output_type": "execute_result",
          "data": {
            "text/plain": [
              "array([[  2.9600,  86.7600, 172.0000,  85.0000,   2.0000],\n",
              "       [  3.9100,  88.0500, 166.0000,  78.0000,   3.0000],\n",
              "       [  4.4200,  95.1700, 156.0000,  81.0000,   2.0000],\n",
              "       ...,\n",
              "       [ 15.5900, 256.5000, 168.0000,  82.0000,  20.0000],\n",
              "       [ 15.9200, 260.1400, 142.0000,  72.0000,  11.0000],\n",
              "       [ 16.4500, 261.5100, 152.0000,  74.0000,   2.0000]])"
            ]
          },
          "metadata": {},
          "execution_count": 70
        }
      ]
    },
    {
      "cell_type": "markdown",
      "source": [
        "_____"
      ],
      "metadata": {
        "id": "riA2R34GR8wV"
      }
    },
    {
      "cell_type": "code",
      "source": [],
      "metadata": {
        "id": "KyTnsrK1R-vb"
      },
      "execution_count": null,
      "outputs": []
    }
  ]
}